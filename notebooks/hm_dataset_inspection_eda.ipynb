{
 "cells": [
  {
   "cell_type": "markdown",
   "source": [
    "# H&M Personalized Fashion Recommendations exploratory data analysis (EDA)"
   ],
   "metadata": {
    "collapsed": false
   }
  },
  {
   "cell_type": "markdown",
   "source": [
    "The Kotlin Clothing Webshop repository's main goal (as it's name probably makes clear) to contain a webshop's implementation written mostly in Kotlin language. Nowadays, one of the key feature of webshops is a recommendation system, which helps the users to find relevant articles."
   ],
   "metadata": {
    "collapsed": false
   }
  },
  {
   "cell_type": "markdown",
   "source": [
    "This notebook contains exploratory data analysis of the [H&M Personalized Fashion Recommendations dataset](https://www.kaggle.com/competitions/h-and-m-personalized-fashion-recommendations/). This dataset contains information about users, articles and transactions. It's a perfect dataset to use to develop and inspect my recommendation system solution assuming on different clothing webshop applications the users behave similarly."
   ],
   "metadata": {
    "collapsed": false
   }
  },
  {
   "cell_type": "markdown",
   "source": [
    "This notebook is written in Kotlin language. Refer to the [official documentation](https://kotlinlang.org/docs/data-science-overview.html) to learn more about Kotlin notebooks."
   ],
   "metadata": {
    "collapsed": false
   }
  },
  {
   "cell_type": "markdown",
   "source": [
    "## 0. Import dependencies"
   ],
   "metadata": {
    "collapsed": false
   }
  },
  {
   "cell_type": "markdown",
   "source": [
    "This notebook will use the following dependencies:\n",
    "- [dataframe](https://github.com/Kotlin/dataframe) is used to read the structured csv data files, and manipulate them\n",
    "- [lets-plot](https://github.com/JetBrains/lets-plot-kotlin) is used to visualize the data"
   ],
   "metadata": {
    "collapsed": false
   }
  },
  {
   "cell_type": "code",
   "execution_count": null,
   "outputs": [],
   "source": [
    "%use dataframe, lets-plot"
   ],
   "metadata": {
    "collapsed": false
   }
  },
  {
   "cell_type": "markdown",
   "source": [
    "## 1. Load data"
   ],
   "metadata": {
    "collapsed": false
   }
  },
  {
   "cell_type": "markdown",
   "source": [
    "To use this notebook, first it is required to download the dataset. As it was stated before, this notebook inspects the data of the [H&M Personalized Fashion Recommendations dataset](https://www.kaggle.com/competitions/h-and-m-personalized-fashion-recommendations/). The dataset is stored on Kaggle, it is possible to download it from the website, or using the [Kaggle API](https://github.com/Kaggle/kaggle-api)."
   ],
   "metadata": {
    "collapsed": false
   }
  },
  {
   "cell_type": "markdown",
   "source": [
    "Before we could load the datasets, the maximum heap space should be set to a proper size, because it must be ensured that the enough space is available for the dataframes. If not enough space is available, then OutOfMemory exception will be thrown with an error message related to the insufficient heap size. \n",
    "- To set the heap size in Kotlin Notebook, first open *Kotlin Notebook Settings*. You can open it with the gear icon next to the cell type selector dropdown, or obviously you can find it with the find action view. There you can specify the maximum heap size. \n",
    "- To set the heap size using other clients, refer to [Kotlin Jupyter kernel's documentation](https://github.com/Kotlin/kotlin-jupyter#other-clients)\n",
    "\n",
    "**When I was running this notebook, I used 16 384 MiB (16 GiB).**"
   ],
   "metadata": {
    "collapsed": false
   }
  },
  {
   "cell_type": "markdown",
   "source": [
    "Run the cell below to read the maximum heap size setting."
   ],
   "metadata": {
    "collapsed": false
   }
  },
  {
   "cell_type": "code",
   "execution_count": null,
   "outputs": [],
   "source": [
    "Runtime.getRuntime().maxMemory()"
   ],
   "metadata": {
    "collapsed": false
   }
  },
  {
   "cell_type": "markdown",
   "source": [
    "After the download was successful, change value of the \"pathToDownloadedCsvFiles\" variable in the cell below to the path of directory of the downloaded dataset on your local machine."
   ],
   "metadata": {
    "collapsed": false
   }
  },
  {
   "cell_type": "code",
   "execution_count": null,
   "outputs": [],
   "source": [
    "val pathToDownloadedCsvFiles = \"C:\\\\Sajat\\\\Egyetem\\\\MSc\\\\Onallo\\\\HM_dataset\""
   ],
   "metadata": {
    "collapsed": false
   }
  },
  {
   "cell_type": "markdown",
   "source": [
    "Then the csv files can be imported into dataframes."
   ],
   "metadata": {
    "collapsed": false
   }
  },
  {
   "cell_type": "code",
   "execution_count": null,
   "outputs": [],
   "source": [
    "val articlesDf = DataFrame.readCSV(\n",
    "    fileOrUrl = pathToDownloadedCsvFiles + \"\\\\articles.csv\",\n",
    ")"
   ],
   "metadata": {
    "collapsed": false
   }
  },
  {
   "cell_type": "code",
   "execution_count": null,
   "outputs": [],
   "source": [
    "val customersDf = DataFrame.readCSV(\n",
    "    fileOrUrl = pathToDownloadedCsvFiles + \"\\\\customers.csv\",\n",
    ")"
   ],
   "metadata": {
    "collapsed": false
   }
  },
  {
   "cell_type": "code",
   "execution_count": null,
   "outputs": [],
   "source": [
    "import java.util.*\n",
    "\n",
    "var transactionsDf = DataFrame.readCSV(\n",
    "    fileOrUrl = pathToDownloadedCsvFiles + \"\\\\transactions_train.csv\",\n",
    "    header = listOf(\"t_dat\", \"customer_id\", \"article_id\", \"price\"),\n",
    "    colTypes = mapOf(\n",
    "        \"t_dat\" to ColType.LocalDate,\n",
    "        \"customer_id\" to ColType.String,\n",
    "        \"article_id\" to ColType.Int,\n",
    "        \"price\" to ColType.String,  // In the following cell converted to BigDecimal!\n",
    "    ),\n",
    "    charset = Charsets.US_ASCII,\n",
    "    skipLines = 1,  // First line contains the column names and so should be skipped\n",
    ")"
   ],
   "metadata": {
    "collapsed": false
   }
  },
  {
   "cell_type": "markdown",
   "source": [
    "The price's type conversion from String to BigDecimal put into a separate cell, because when I tried to do it in the readCSV method, I got OutOfMemory exception. I could increase the maximum heap size, but I don't want to solve it like that, because in my opinion the 16 GiB maximum heap size is already really high."
   ],
   "metadata": {
    "collapsed": false
   }
  },
  {
   "cell_type": "code",
   "execution_count": null,
   "outputs": [],
   "source": [
    "transactionsDf = transactionsDf.convert { price }.with { it.toBigDecimal() }"
   ],
   "metadata": {
    "collapsed": false
   }
  },
  {
   "cell_type": "markdown",
   "source": [
    "## 2. Analyze data"
   ],
   "metadata": {
    "collapsed": false
   }
  },
  {
   "cell_type": "markdown",
   "source": [
    "In this part data wrangling and visualisation will be performed on the loaded dataframes."
   ],
   "metadata": {
    "collapsed": false
   }
  },
  {
   "cell_type": "markdown",
   "source": [
    "### 2.1 Basic inspections"
   ],
   "metadata": {
    "collapsed": false
   }
  },
  {
   "cell_type": "markdown",
   "source": [
    "First let's inspect some rows and the columns of the dataframes!"
   ],
   "metadata": {
    "collapsed": false
   }
  },
  {
   "cell_type": "code",
   "execution_count": null,
   "outputs": [],
   "source": [
    "articlesDf.head()"
   ],
   "metadata": {
    "collapsed": false
   }
  },
  {
   "cell_type": "code",
   "execution_count": null,
   "outputs": [],
   "source": [
    "customersDf.head()"
   ],
   "metadata": {
    "collapsed": false
   }
  },
  {
   "cell_type": "code",
   "execution_count": null,
   "outputs": [],
   "source": [
    "transactionsDf.head()"
   ],
   "metadata": {
    "collapsed": false
   }
  }
 ],
 "metadata": {
  "kernelspec": {
   "display_name": "Kotlin",
   "language": "kotlin",
   "name": "kotlin"
  },
  "language_info": {
   "name": "kotlin",
   "version": "1.8.20",
   "mimetype": "text/x-kotlin",
   "file_extension": ".kt",
   "pygments_lexer": "kotlin",
   "codemirror_mode": "text/x-kotlin",
   "nbconvert_exporter": ""
  }
 },
 "nbformat": 4,
 "nbformat_minor": 0
}
