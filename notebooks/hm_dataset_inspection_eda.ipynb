{
 "cells": [
  {
   "cell_type": "markdown",
   "source": [
    "# H&M Personalized Fashion Recommendations exploratory data analysis (EDA)"
   ],
   "metadata": {
    "collapsed": false
   }
  },
  {
   "cell_type": "markdown",
   "source": [
    "The Kotlin Clothing Webshop repository's main goal (as it's name probably makes clear) to contain a webshop's implementation written mostly in Kotlin language. Nowadays, one of the key feature of webshops is a recommendation system, which helps the users to find relevant articles."
   ],
   "metadata": {
    "collapsed": false
   }
  },
  {
   "cell_type": "markdown",
   "source": [
    "This notebook contains exploratory data analysis of the [H&M Personalized Fashion Recommendations dataset](https://www.kaggle.com/competitions/h-and-m-personalized-fashion-recommendations/). This dataset contains information about users, articles and transactions. It's a perfect dataset to use to develop and inspect my recommendation system solution assuming on different clothing webshop applications the users behave similarly."
   ],
   "metadata": {
    "collapsed": false
   }
  },
  {
   "cell_type": "markdown",
   "source": [
    "This notebook is written in Kotlin language. Refer to the [official documentation](https://kotlinlang.org/docs/data-science-overview.html) to learn more about Kotlin notebooks."
   ],
   "metadata": {
    "collapsed": false
   }
  },
  {
   "cell_type": "markdown",
   "source": [
    "## 0. Import dependencies"
   ],
   "metadata": {
    "collapsed": false
   }
  },
  {
   "cell_type": "markdown",
   "source": [
    "This notebook will use the following dependencies:\n",
    "- [dataframe](https://github.com/Kotlin/dataframe) is used to read the structured csv data files, and manipulate them\n",
    "- [kandy](https://github.com/Kotlin/kandy) is used to visualize the data"
   ],
   "metadata": {
    "collapsed": false
   }
  },
  {
   "cell_type": "code",
   "execution_count": null,
   "outputs": [],
   "source": [
    "%useLatestDescriptors\n",
    "%use dataframe, kandy"
   ],
   "metadata": {
    "collapsed": false
   }
  },
  {
   "cell_type": "markdown",
   "source": [
    "## 1. Load data"
   ],
   "metadata": {
    "collapsed": false
   }
  },
  {
   "cell_type": "markdown",
   "source": [
    "To use this notebook, first it is required to download the dataset. As it was stated before, this notebook inspects the data of the [H&M Personalized Fashion Recommendations dataset](https://www.kaggle.com/competitions/h-and-m-personalized-fashion-recommendations/). The dataset is stored on Kaggle, it is possible to download it from the website, or using the [Kaggle API](https://github.com/Kaggle/kaggle-api)."
   ],
   "metadata": {
    "collapsed": false
   }
  },
  {
   "cell_type": "markdown",
   "source": [
    "Before we could load the datasets, the maximum heap space should be set to a proper size, because it must be ensured that the enough space is available for the dataframes. If not enough space is available, then OutOfMemory exception will be thrown with an error message related to the insufficient heap size. \n",
    "- To set the heap size in Kotlin Notebook, first open *Kotlin Notebook Settings*. You can open it with the gear icon next to the cell type selector dropdown, or obviously you can find it with the find action view. There you can specify the maximum heap size. \n",
    "- To set the heap size using other clients, refer to [Kotlin Jupyter kernel's documentation](https://github.com/Kotlin/kotlin-jupyter#other-clients)\n",
    "\n",
    "**When I was running this notebook, I set the maximum heap size to 16 384 MiB (16 GiB).**"
   ],
   "metadata": {
    "collapsed": false
   }
  },
  {
   "cell_type": "markdown",
   "source": [
    "Run the cell below to read the maximum heap size setting."
   ],
   "metadata": {
    "collapsed": false
   }
  },
  {
   "cell_type": "code",
   "execution_count": null,
   "outputs": [],
   "source": [
    "Runtime.getRuntime().maxMemory()"
   ],
   "metadata": {
    "collapsed": false
   }
  },
  {
   "cell_type": "markdown",
   "source": [
    "After the download was successful, change value of the \"pathToDownloadedCsvFiles\" variable in the cell below to the path of directory of the downloaded dataset on your local machine."
   ],
   "metadata": {
    "collapsed": false
   }
  },
  {
   "cell_type": "code",
   "execution_count": null,
   "outputs": [],
   "source": [
    "val pathToDownloadedCsvFiles = \"C:\\\\Sajat\\\\Egyetem\\\\MSc\\\\Onallo\\\\HM_dataset\""
   ],
   "metadata": {
    "collapsed": false
   }
  },
  {
   "cell_type": "markdown",
   "source": [
    "Then the csv files can be imported into dataframes."
   ],
   "metadata": {
    "collapsed": false
   }
  },
  {
   "cell_type": "markdown",
   "source": [
    "TODO add quick explanation and inspect unneeded columns"
   ],
   "metadata": {
    "collapsed": false
   }
  },
  {
   "cell_type": "code",
   "execution_count": null,
   "outputs": [],
   "source": [
    "val articlesDf = DataFrame.readCSV(\n",
    "    fileOrUrl = pathToDownloadedCsvFiles + \"\\\\articles.csv\",\n",
    ")"
   ],
   "metadata": {
    "collapsed": false
   }
  },
  {
   "cell_type": "markdown",
   "source": [
    "Let's load the customer dataframe!"
   ],
   "metadata": {
    "collapsed": false
   }
  },
  {
   "cell_type": "code",
   "execution_count": null,
   "outputs": [],
   "source": [
    "var customersDf = DataFrame.readCSV(\n",
    "    fileOrUrl = pathToDownloadedCsvFiles + \"\\\\customers.csv\",\n",
    "    colTypes = mapOf(\n",
    "        \"customer_id\" to ColType.String,\n",
    "        \"age\" to ColType.Int,\n",
    "        \"postal_code\" to ColType.String,\n",
    "    ),\n",
    "    charset = Charsets.US_ASCII,\n",
    ")"
   ],
   "metadata": {
    "collapsed": false
   }
  },
  {
   "cell_type": "markdown",
   "source": [
    "The customers.csv file contains the following columns:\n",
    "- customer_id\n",
    "- FN\n",
    "- club_member_status\n",
    "- fashion_news_frequency\n",
    "- age\n",
    "- postal_code"
   ],
   "metadata": {
    "collapsed": false
   }
  },
  {
   "cell_type": "markdown",
   "source": [
    "From these columns the **customer_id**, **age** and **postal_code** columns seem interesting, because these attributes can be present in the database of any clothing webshop. Let's do a projection on the dataframe to keep only the relevant attributes!"
   ],
   "metadata": {
    "collapsed": false
   }
  },
  {
   "cell_type": "code",
   "execution_count": null,
   "outputs": [],
   "source": [
    "customersDf = customersDf.remove { FN and Active and club_member_status and fashion_news_frequency }"
   ],
   "metadata": {
    "collapsed": false
   }
  },
  {
   "cell_type": "markdown",
   "source": [
    "TODO add explanation and remove header and skipLines attributes, also check that whether the unneeded sales_channel_id is removed or not"
   ],
   "metadata": {
    "collapsed": false
   }
  },
  {
   "cell_type": "code",
   "execution_count": null,
   "outputs": [],
   "source": [
    "import java.util.*\n",
    "\n",
    "var transactionsDf = DataFrame.readCSV(\n",
    "    fileOrUrl = pathToDownloadedCsvFiles + \"\\\\transactions_train.csv\",\n",
    "    header = listOf(\"t_dat\", \"customer_id\", \"article_id\", \"price\"),\n",
    "    colTypes = mapOf(\n",
    "        \"t_dat\" to ColType.LocalDate,\n",
    "        \"customer_id\" to ColType.String,\n",
    "        \"article_id\" to ColType.Int,\n",
    "        \"price\" to ColType.String,  // In the following cell converted to BigDecimal!\n",
    "    ),\n",
    "    charset = Charsets.US_ASCII,\n",
    "    skipLines = 1,  // First line contains the column names and so should be skipped\n",
    ")"
   ],
   "metadata": {
    "collapsed": false
   }
  },
  {
   "cell_type": "markdown",
   "source": [
    "The price's type conversion from String to BigDecimal put into a separate cell, because when I tried to do it in the readCSV method, I got OutOfMemory exception. I could increase the maximum heap size, but I don't want to solve it like that, because in my opinion the 16 GiB maximum heap size is already really high."
   ],
   "metadata": {
    "collapsed": false
   }
  },
  {
   "cell_type": "code",
   "execution_count": null,
   "outputs": [],
   "source": [
    "transactionsDf = transactionsDf.convert { price }.with { it.toBigDecimal() }"
   ],
   "metadata": {
    "collapsed": false
   }
  },
  {
   "cell_type": "markdown",
   "source": [
    "## 2. Analyze data"
   ],
   "metadata": {
    "collapsed": false
   }
  },
  {
   "cell_type": "markdown",
   "source": [
    "In this part data wrangling and visualisation will be performed on the loaded dataframes."
   ],
   "metadata": {
    "collapsed": false
   }
  },
  {
   "cell_type": "markdown",
   "source": [
    "### 2.1 Examination specifically related to articles"
   ],
   "metadata": {
    "collapsed": false
   }
  },
  {
   "cell_type": "markdown",
   "source": [
    "Firstly, let's read the first items in the articles dataframe!"
   ],
   "metadata": {
    "collapsed": false
   }
  },
  {
   "cell_type": "code",
   "execution_count": null,
   "outputs": [],
   "source": [
    "articlesDf.head()"
   ],
   "metadata": {
    "collapsed": false
   }
  },
  {
   "cell_type": "markdown",
   "source": [
    "### 2.2 Examination specifically related to customers"
   ],
   "metadata": {
    "collapsed": false
   }
  },
  {
   "cell_type": "markdown",
   "source": [
    "#### 2.2.1 Basic inspections about the customers"
   ],
   "metadata": {
    "collapsed": false
   }
  },
  {
   "cell_type": "markdown",
   "source": [
    "Firstly, let's read the first items in the customers dataframe!"
   ],
   "metadata": {
    "collapsed": false
   }
  },
  {
   "cell_type": "code",
   "execution_count": null,
   "outputs": [],
   "source": [
    "customersDf.head()"
   ],
   "metadata": {
    "collapsed": false
   }
  },
  {
   "cell_type": "markdown",
   "source": [
    "Let's check if there is any duplicate row!"
   ],
   "metadata": {
    "collapsed": false
   }
  },
  {
   "cell_type": "code",
   "execution_count": null,
   "outputs": [],
   "source": [
    "val countOfCustomerRows = customersDf.count()\n",
    "val countOfDisctinctCustomerRows = customersDf.countDistinct()\n",
    "\n",
    "println(\"Number of rows in customer dataframe: ${countOfCustomerRows}\")\n",
    "println(\"Number of distinct rows in customer dataframe: ${countOfDisctinctCustomerRows}\")\n",
    "println(\"is there any duplicate element in customer dataframe? ${countOfCustomerRows != countOfDisctinctCustomerRows}\")"
   ],
   "metadata": {
    "collapsed": false
   }
  },
  {
   "cell_type": "markdown",
   "source": [
    "There are no duplicates in the customer dataframe! This information can be useful for further investigations!"
   ],
   "metadata": {
    "collapsed": false
   }
  },
  {
   "cell_type": "markdown",
   "source": [
    "#### 2.2.2 Inspections related to the age attribute of the customers"
   ],
   "metadata": {
    "collapsed": false
   }
  },
  {
   "cell_type": "markdown",
   "source": [
    "Let's inspect the age attribute of customers!"
   ],
   "metadata": {
    "collapsed": false
   }
  },
  {
   "cell_type": "code",
   "execution_count": null,
   "outputs": [],
   "source": [
    "customersDf.describe { age }"
   ],
   "metadata": {
    "collapsed": false
   }
  },
  {
   "cell_type": "markdown",
   "source": [
    "This is fascinating! The youngest user is 16 years old while the oldest is 99! (Assuming the users are honest about their ages!) I thought the user base would be much younger, I would have guessed that the median and mean values are lower than 30! The most common age is 21, which does not look surprising in my opinion! The standard deviation looks also sensible!"
   ],
   "metadata": {
    "collapsed": false
   }
  },
  {
   "cell_type": "markdown",
   "source": [
    "Let's see how many people are in the age groups! Let's also create a bar chart to visualize this information!"
   ],
   "metadata": {
    "collapsed": false
   }
  },
  {
   "cell_type": "code",
   "execution_count": null,
   "outputs": [],
   "source": [
    "val customersByAge = customersDf.valueCounts() { age }.sortBy { age }\n",
    "customersByAge"
   ],
   "metadata": {
    "collapsed": false
   }
  },
  {
   "cell_type": "code",
   "execution_count": null,
   "outputs": [],
   "source": [
    "customersByAge.plot { \n",
    "    bars { \n",
    "        x(age)\n",
    "        y(count)\n",
    "     }\n",
    " }"
   ],
   "metadata": {
    "collapsed": false
   }
  },
  {
   "cell_type": "markdown",
   "source": [
    "The most surprising part of this barchart is the pit at the 40 years olds!"
   ],
   "metadata": {
    "collapsed": false
   }
  },
  {
   "cell_type": "markdown",
   "source": [
    "#### 2.2.3 Inspections related to the postal code attribute of the customers"
   ],
   "metadata": {
    "collapsed": false
   }
  },
  {
   "cell_type": "markdown",
   "source": [
    "It could be interesting to see how users are distributed according to their place of residence!"
   ],
   "metadata": {
    "collapsed": false
   }
  },
  {
   "cell_type": "code",
   "execution_count": null,
   "outputs": [],
   "source": [
    "customersDf.describe { postal_code }"
   ],
   "metadata": {
    "collapsed": false
   }
  },
  {
   "cell_type": "markdown",
   "source": [
    "It seems that the most densely populated settlement of the users contains 120303 users! This seems a lot! I wonder if this information is accurate! Also, there are 352899 unique settlement populated by the users, this is also a huge number!"
   ],
   "metadata": {
    "collapsed": false
   }
  },
  {
   "cell_type": "code",
   "execution_count": null,
   "outputs": [],
   "source": [
    "val customersByPostalCode = customersDf.valueCounts { postal_code }\n",
    "customersByPostalCode"
   ],
   "metadata": {
    "collapsed": false
   }
  },
  {
   "cell_type": "markdown",
   "source": [
    "Based on the huge difference between the most and second most populated settlement, it seems something is definitely wrong with the settlement that is inhabited by most people!"
   ],
   "metadata": {
    "collapsed": false
   }
  },
  {
   "cell_type": "markdown",
   "source": [
    "Let's analyze next that usually how many customer live in the same settlement!"
   ],
   "metadata": {
    "collapsed": false
   }
  },
  {
   "cell_type": "code",
   "execution_count": null,
   "outputs": [],
   "source": [
    "customersByPostalCode.describe { count }"
   ],
   "metadata": {
    "collapsed": false
   }
  },
  {
   "cell_type": "code",
   "execution_count": null,
   "outputs": [],
   "source": [
    "val customerPopulationValuesBySettlements = customersByPostalCode.values { count }.toList()\n",
    "\n",
    "plot(\n",
    "    mapOf(\n",
    "        \"x\" to listOf(\"customers\"),\n",
    "        \"min\" to listOf(customerPopulationValuesBySettlements.last()),\n",
    "        \"lower\" to listOf(customerPopulationValuesBySettlements[customerPopulationValuesBySettlements.size / 4 * 3]),\n",
    "        \"middle\" to listOf(customerPopulationValuesBySettlements[customerPopulationValuesBySettlements.size / 2]),\n",
    "        \"upper\" to listOf(customerPopulationValuesBySettlements[customerPopulationValuesBySettlements.size / 4]),\n",
    "        \"max\" to listOf(customerPopulationValuesBySettlements.first()),\n",
    "    )\n",
    ") {\n",
    "    boxplot { \n",
    "        x(\"x\"<String>())\n",
    "        yMin(\"min\"<Int>())\n",
    "        lower(\"lower\"<Int>())\n",
    "        middle(\"middle\"<Int>())\n",
    "        upper(\"upper\"<Int>())\n",
    "        yMax(\"max\"<Int>())\n",
    "     }\n",
    "     y {\n",
    "         axis.name = \"population\"\n",
    "     }\n",
    " }"
   ],
   "metadata": {
    "collapsed": false
   }
  },
  {
   "cell_type": "markdown",
   "source": [
    "Let's remove the outlier maximum value hoping that way we get a more meaningful chart!"
   ],
   "metadata": {
    "collapsed": false
   }
  },
  {
   "cell_type": "code",
   "execution_count": null,
   "outputs": [],
   "source": [
    "plot(\n",
    "    mapOf(\n",
    "        \"x\" to listOf(\"customers\"),\n",
    "        \"min\" to listOf(customerPopulationValuesBySettlements[2]),\n",
    "        \"lower\" to listOf(customerPopulationValuesBySettlements[customerPopulationValuesBySettlements.size / 4]),\n",
    "        \"middle\" to listOf(customerPopulationValuesBySettlements[customerPopulationValuesBySettlements.size / 2]),\n",
    "        \"upper\" to listOf(customerPopulationValuesBySettlements[customerPopulationValuesBySettlements.size / 4 * 3]),\n",
    "        \"max\" to listOf(customerPopulationValuesBySettlements.last()),\n",
    "    )\n",
    ") {\n",
    "    boxplot { \n",
    "        x(\"x\"<String>())\n",
    "        yMin(\"min\"<Int>())\n",
    "        lower(\"lower\"<Int>())\n",
    "        middle(\"middle\"<Int>())\n",
    "        upper(\"upper\"<Int>())\n",
    "        yMax(\"max\"<Int>())\n",
    "     }\n",
    "     y {\n",
    "         axis.name = \"population\"\n",
    "     }\n",
    " }"
   ],
   "metadata": {
    "collapsed": false
   }
  },
  {
   "cell_type": "markdown",
   "source": [
    "Seems like in the majority of the cases, few customer share the same postal code!"
   ],
   "metadata": {
    "collapsed": false
   }
  },
  {
   "cell_type": "markdown",
   "source": [
    "### 2.3 Examination specifically related to transactions"
   ],
   "metadata": {
    "collapsed": false
   }
  },
  {
   "cell_type": "markdown",
   "source": [
    "Firstly, let's read the first items in the transactions dataframe!"
   ],
   "metadata": {
    "collapsed": false
   }
  },
  {
   "cell_type": "code",
   "execution_count": null,
   "outputs": [],
   "source": [
    "transactionsDf.head()"
   ],
   "metadata": {
    "collapsed": false
   }
  }
 ],
 "metadata": {
  "kernelspec": {
   "display_name": "Kotlin",
   "language": "kotlin",
   "name": "kotlin"
  },
  "language_info": {
   "name": "kotlin",
   "version": "1.8.20",
   "mimetype": "text/x-kotlin",
   "file_extension": ".kt",
   "pygments_lexer": "kotlin",
   "codemirror_mode": "text/x-kotlin",
   "nbconvert_exporter": ""
  }
 },
 "nbformat": 4,
 "nbformat_minor": 0
}
