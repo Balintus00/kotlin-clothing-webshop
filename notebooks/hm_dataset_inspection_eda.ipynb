{
 "cells": [
  {
   "cell_type": "markdown",
   "source": [
    "# H&M Personalized Fashion Recommendations exploratory data analysis (EDA)"
   ],
   "metadata": {
    "collapsed": false
   }
  },
  {
   "cell_type": "markdown",
   "source": [
    "This notebook contains exploratory data analysis of the [H&M Personalized Fashion Recommendations dataset](https://www.kaggle.com/competitions/h-and-m-personalized-fashion-recommendations/). This dataset contains information about users, articles and transactions. "
   ],
   "metadata": {
    "collapsed": false
   }
  },
  {
   "cell_type": "markdown",
   "source": [
    "This notebook is written in Kotlin language. Refer to the [official documentation](https://kotlinlang.org/docs/data-science-overview.html) to learn more about Kotlin Notebook."
   ],
   "metadata": {
    "collapsed": false
   }
  },
  {
   "cell_type": "markdown",
   "source": [
    "## 0. Import dependencies"
   ],
   "metadata": {
    "collapsed": false
   }
  },
  {
   "cell_type": "markdown",
   "source": [
    "This notebook will use the following dependencies:\n",
    "- [dataframe](https://github.com/Kotlin/dataframe) is used to read the structured csv data files, and then process the read data\n",
    "- [kandy](https://github.com/Kotlin/kandy) is used to visualize the data"
   ],
   "metadata": {
    "collapsed": false
   }
  },
  {
   "cell_type": "code",
   "execution_count": null,
   "outputs": [],
   "source": [
    "%useLatestDescriptors\n",
    "%use dataframe, kandy"
   ],
   "metadata": {
    "collapsed": false
   }
  },
  {
   "cell_type": "markdown",
   "source": [
    "## 1. Data loading"
   ],
   "metadata": {
    "collapsed": false
   }
  },
  {
   "cell_type": "markdown",
   "source": [
    "To use this notebook, it is required to download the used dataset. As it was stated before, this notebook inspects the data of the [H&M Personalized Fashion Recommendations dataset](https://www.kaggle.com/competitions/h-and-m-personalized-fashion-recommendations/). The dataset is stored on Kaggle, it is possible to download it from the website, or using the [Kaggle API](https://github.com/Kaggle/kaggle-api)."
   ],
   "metadata": {
    "collapsed": false
   }
  },
  {
   "cell_type": "markdown",
   "source": [
    "Before we could load the datasets, the maximum heap space should be set to a proper size, because it must be ensured that the enough space is available for the dataframes. If not enough space is available, then OutOfMemory exception will be thrown with an error message related to the insufficient heap size. \n",
    "- To set the heap size in Kotlin Notebook, first open *Kotlin Notebook Settings*. You can open it with the gear icon next to the cell type selector dropdown, or obviously you can find it with the find action view. There you can specify the maximum heap size. \n",
    "- To set the heap size using other clients, refer to [Kotlin Jupyter kernel's documentation](https://github.com/Kotlin/kotlin-jupyter#other-clients)\n",
    "\n",
    "**When I was running this notebook, I set the maximum heap size to 12 228 MiB (12 GiB).**"
   ],
   "metadata": {
    "collapsed": false
   }
  },
  {
   "cell_type": "markdown",
   "source": [
    "If you encounter OutOfMemoryException while running this notebook, I advise you to try the following:\n",
    "- Increase the maximum heap size (if you have sufficient memory size in your hardware to do so).\n",
    "- Clear the memory by restarting the kernel. **Please note that this will cause all variable values to be lost (and also you have to reimport the dependencies).**"
   ],
   "metadata": {
    "collapsed": false
   }
  },
  {
   "cell_type": "markdown",
   "source": [
    "Run the cell below to read the maximum heap size setting."
   ],
   "metadata": {
    "collapsed": false
   }
  },
  {
   "cell_type": "code",
   "execution_count": null,
   "outputs": [],
   "source": [
    "Runtime.getRuntime().maxMemory()"
   ],
   "metadata": {
    "collapsed": false
   }
  },
  {
   "cell_type": "markdown",
   "source": [
    "After the download was successful, change value of the *pathToDownloadedCsvFiles* variable in the cell below to the path of directory of the downloaded dataset on your local machine."
   ],
   "metadata": {
    "collapsed": false
   }
  },
  {
   "cell_type": "code",
   "execution_count": null,
   "outputs": [],
   "source": [
    "val pathToDownloadedCsvFiles = \"C:\\\\Sajat\\\\Egyetem\\\\MSc\\\\Onallo\\\\HM_dataset\""
   ],
   "metadata": {
    "collapsed": false
   }
  },
  {
   "cell_type": "markdown",
   "source": [
    "Then the csv files can be imported into dataframes."
   ],
   "metadata": {
    "collapsed": false
   }
  },
  {
   "cell_type": "markdown",
   "source": [
    "#### 1.1 Loading articles dataframe"
   ],
   "metadata": {
    "collapsed": false
   }
  },
  {
   "cell_type": "markdown",
   "source": [
    "Let's load the articles dataframe!"
   ],
   "metadata": {
    "collapsed": false
   }
  },
  {
   "cell_type": "code",
   "execution_count": null,
   "outputs": [],
   "source": [
    "var articlesDf = DataFrame.readCSV(\n",
    "    fileOrUrl = pathToDownloadedCsvFiles + \"\\\\articles.csv\",\n",
    ")"
   ],
   "metadata": {
    "collapsed": false
   }
  },
  {
   "cell_type": "markdown",
   "source": [
    "Let's check out the column names of the articles dataframe!"
   ],
   "metadata": {
    "collapsed": false
   }
  },
  {
   "cell_type": "code",
   "execution_count": null,
   "outputs": [],
   "source": [
    "articlesDf.columnNames()"
   ],
   "metadata": {
    "collapsed": false
   }
  },
  {
   "cell_type": "markdown",
   "source": [
    "For many attributes (e.g. graphical_appearance, perceived_color_value) two column is present that represent the same information: one column contains the value in a format that is easier to interpret, and another column contains an encoded representation that is more concise. In these inspections the comprehensible values are enough, so the other unnecessary columns should be removed!"
   ],
   "metadata": {
    "collapsed": false
   }
  },
  {
   "cell_type": "markdown",
   "source": [
    "I'm also removing the detail_desc column, because I couldn't really think of a way to analyse this attribute set."
   ],
   "metadata": {
    "collapsed": false
   }
  },
  {
   "cell_type": "code",
   "execution_count": null,
   "outputs": [],
   "source": [
    "articlesDf = articlesDf.select { article_id and prod_name and product_type_name and product_group_name and graphical_appearance_name and colour_group_name and perceived_colour_value_name and perceived_colour_master_name and department_name and index_name and index_group_name and section_name and garment_group_name }"
   ],
   "metadata": {
    "collapsed": false
   }
  },
  {
   "cell_type": "markdown",
   "source": [
    "#### 1.2 Loading customers dataframe"
   ],
   "metadata": {
    "collapsed": false
   }
  },
  {
   "cell_type": "markdown",
   "source": [
    "Let's load the customer dataframe!"
   ],
   "metadata": {
    "collapsed": false
   }
  },
  {
   "cell_type": "code",
   "execution_count": null,
   "outputs": [],
   "source": [
    "var customersDf = DataFrame.readCSV(\n",
    "    fileOrUrl = pathToDownloadedCsvFiles + \"\\\\customers.csv\",\n",
    "    charset = Charsets.US_ASCII,\n",
    ")"
   ],
   "metadata": {
    "collapsed": false
   }
  },
  {
   "cell_type": "markdown",
   "source": [
    "Let's inspect the columns of the customers dataframe!"
   ],
   "metadata": {
    "collapsed": false
   }
  },
  {
   "cell_type": "code",
   "execution_count": null,
   "outputs": [],
   "source": [
    "customersDf.columnNames()"
   ],
   "metadata": {
    "collapsed": false
   }
  },
  {
   "cell_type": "markdown",
   "source": [
    "From these columns the **customer_id**, **age** and **postal_code** columns seem useful, because these attributes can be present in the database of any clothing webshop. Also, I couldn't decipher FN and Active columns' meaning. Let's do a projection on the dataframe to keep only the relevant attributes!"
   ],
   "metadata": {
    "collapsed": false
   }
  },
  {
   "cell_type": "code",
   "execution_count": null,
   "outputs": [],
   "source": [
    "customersDf = customersDf.select { customer_id and age and postal_code }"
   ],
   "metadata": {
    "collapsed": false
   }
  },
  {
   "cell_type": "markdown",
   "source": [
    "#### 1.3 Loading transactions dataframe"
   ],
   "metadata": {
    "collapsed": false
   }
  },
  {
   "cell_type": "markdown",
   "source": [
    "To read transactions_train.csv, the computer needs a significant amount of RAM. When I was trying to read the whole file, **I needed 16 GiB of RAM**. In every attempt I made with less maximum memory limit, the code failed with an OutOfMemoryException."
   ],
   "metadata": {
    "collapsed": false
   }
  },
  {
   "cell_type": "markdown",
   "source": [
    "To tackle the issue with the high required memory limit, with following code snippet I split the original file into two new files. In the original csv file the transaction date attribute covers a period of two years, so it's sensible to create two files that both cover a period of one year. Because the new files will only contain approximately half of the original data, less memory should be sufficient."
   ],
   "metadata": {
    "collapsed": false
   }
  },
  {
   "cell_type": "markdown",
   "source": [
    "To modify the path of the two newly created file, please modify the values of variables that contain the path!"
   ],
   "metadata": {
    "collapsed": false
   }
  },
  {
   "cell_type": "code",
   "execution_count": null,
   "outputs": [],
   "source": [
    "val firstYearTransactionsTargetPath = \"C:\\\\Sajat\\\\Egyetem\\\\MSc\\\\Onallo\\\\HM_dataset_transformation\\\\transactions_train1.csv\"\n",
    "val secondYearTransactionsTargetPath = \"C:\\\\Sajat\\\\Egyetem\\\\MSc\\\\Onallo\\\\HM_dataset_transformation\\\\transactions_train2.csv\""
   ],
   "metadata": {
    "collapsed": false
   }
  },
  {
   "cell_type": "markdown",
   "source": [
    "**Please note that this code below could run for a relatively long time. When I was running it, it ran for approximately one and a half hour.**"
   ],
   "metadata": {
    "collapsed": false
   }
  },
  {
   "cell_type": "code",
   "execution_count": null,
   "outputs": [],
   "source": [
    "import java.io.File\n",
    "import java.text.SimpleDateFormat\n",
    "\n",
    "val dateFormat = SimpleDateFormat(\"yyyy-MM-dd\")\n",
    "val delimiterDate = dateFormat.parse(\"2019-09-21\")\n",
    "\n",
    "val firstYearTargetFile = File(firstYearTransactionsTargetPath)\n",
    "val secondYearTargetFile = File(secondYearTransactionsTargetPath)\n",
    "\n",
    "var isDelimiterDateReached = false\n",
    "var areColumnNameLinesAdded = false\n",
    "\n",
    "var lineSeparator = \"\\r\\n\"\n",
    "\n",
    "File(pathToDownloadedCsvFiles + \"\\\\transactions_train.csv\").forEachLine { line ->\n",
    "    line.split(',').firstOrNull()?.let { rawDate ->\n",
    "        try {\n",
    "            when {\n",
    "                areColumnNameLinesAdded && isDelimiterDateReached -> {\n",
    "                    secondYearTargetFile.appendText(\"$lineSeparator$line\")\n",
    "                }\n",
    "\n",
    "                areColumnNameLinesAdded && isDelimiterDateReached.not() && dateFormat.parse(rawDate) < delimiterDate -> {\n",
    "                    firstYearTargetFile.appendText(\"$lineSeparator$line\")\n",
    "                }\n",
    "\n",
    "                areColumnNameLinesAdded && isDelimiterDateReached.not() -> {\n",
    "                    isDelimiterDateReached = true\n",
    "                    secondYearTargetFile.appendText(\"$lineSeparator$line\")\n",
    "                }\n",
    "                \n",
    "                areColumnNameLinesAdded.not() -> {\n",
    "                    firstYearTargetFile.appendText(\"$line\")\n",
    "                    secondYearTargetFile.appendText(\"$line\")\n",
    "                    \n",
    "                    areColumnNameLinesAdded = true\n",
    "                }\n",
    "            }\n",
    "        } catch (t: Throwable) {\n",
    "            t.printStackTrace()\n",
    "        }\n",
    "    }\n",
    "}"
   ],
   "metadata": {
    "collapsed": false
   }
  },
  {
   "cell_type": "markdown",
   "source": [
    "If your computer has plenty of RAM, you can skip this csv splitting step, and instead just load the whole transaction csv file into one dataframe. After this, you can split the dataframes into two parts. For example the dataframes can be created using the filter operation on *t_dat* attribute."
   ],
   "metadata": {
    "collapsed": false
   }
  },
  {
   "cell_type": "markdown",
   "source": [
    "Running the cells above, the transaction dataframes can be loaded!"
   ],
   "metadata": {
    "collapsed": false
   }
  },
  {
   "cell_type": "code",
   "execution_count": null,
   "outputs": [],
   "source": [
    "var firstYeartransactionsDf = DataFrame.readCSV(\n",
    "    fileOrUrl = firstYearTransactionsTargetPath,\n",
    "    charset = Charsets.US_ASCII,\n",
    ")"
   ],
   "metadata": {
    "collapsed": false
   }
  },
  {
   "cell_type": "code",
   "execution_count": null,
   "outputs": [],
   "source": [
    "var secondYeartransactionsDf = DataFrame.readCSV(\n",
    "    fileOrUrl = secondYearTransactionsTargetPath,\n",
    "    charset = Charsets.US_ASCII,\n",
    ")"
   ],
   "metadata": {
    "collapsed": false
   }
  },
  {
   "cell_type": "markdown",
   "source": [
    "After this let's do on these dataframes a projection, to keep only the relevant attributes."
   ],
   "metadata": {
    "collapsed": false
   }
  },
  {
   "cell_type": "code",
   "execution_count": null,
   "outputs": [],
   "source": [
    "firstYeartransactionsDf = firstYeartransactionsDf.select { t_dat and customer_id and article_id and price }"
   ],
   "metadata": {
    "collapsed": false
   }
  },
  {
   "cell_type": "code",
   "execution_count": null,
   "outputs": [],
   "source": [
    "secondYeartransactionsDf = secondYeartransactionsDf.select { t_dat and customer_id and article_id and price }"
   ],
   "metadata": {
    "collapsed": false
   }
  },
  {
   "cell_type": "markdown",
   "source": [
    "## 2. Data analysis"
   ],
   "metadata": {
    "collapsed": false
   }
  },
  {
   "cell_type": "markdown",
   "source": [
    "In this part data wrangling and visualisation will be performed on the dataframes."
   ],
   "metadata": {
    "collapsed": false
   }
  },
  {
   "cell_type": "markdown",
   "source": [
    "### 2.1 Examination specifically related to articles"
   ],
   "metadata": {
    "collapsed": false
   }
  },
  {
   "cell_type": "markdown",
   "source": [
    "#### 2.1.1 Basic inspections about the articles"
   ],
   "metadata": {
    "collapsed": false
   }
  },
  {
   "cell_type": "markdown",
   "source": [
    "Firstly let's read the first items to see some sample rows and have some idea about the stored data!"
   ],
   "metadata": {
    "collapsed": false
   }
  },
  {
   "cell_type": "code",
   "execution_count": null,
   "outputs": [],
   "source": [
    "articlesDf.head()"
   ],
   "metadata": {
    "collapsed": false
   }
  },
  {
   "cell_type": "markdown",
   "source": [
    "Let's check is there any duplicate row in the dataframe!"
   ],
   "metadata": {
    "collapsed": false
   }
  },
  {
   "cell_type": "code",
   "execution_count": null,
   "outputs": [],
   "source": [
    "articlesDf.describe { article_id }"
   ],
   "metadata": {
    "collapsed": false
   }
  },
  {
   "cell_type": "markdown",
   "source": [
    "We can see from the unique and count attributes that there is no duplicate row in the dataframe!"
   ],
   "metadata": {
    "collapsed": false
   }
  },
  {
   "cell_type": "markdown",
   "source": [
    "#### 2.2.2 Inspections related to individual attribute set"
   ],
   "metadata": {
    "collapsed": false
   }
  },
  {
   "cell_type": "markdown",
   "source": [
    "##### 2.2.2.1 Inspections related to the product name attribute"
   ],
   "metadata": {
    "collapsed": false
   }
  },
  {
   "cell_type": "code",
   "execution_count": null,
   "outputs": [],
   "source": [
    "val countOfProdNameAttributes = articlesDf.valueCounts { prod_name }\n",
    "\n",
    "countOfProdNameAttributes.describe()"
   ],
   "metadata": {
    "collapsed": false
   }
  },
  {
   "cell_type": "markdown",
   "source": [
    "As we can see, the prod_name is not a unique identifier. For instance products can exist with the same prod_name but have different colors."
   ],
   "metadata": {
    "collapsed": false
   }
  },
  {
   "cell_type": "markdown",
   "source": [
    "There is at least one product_code value that belongs to 98 different products, one of them is called \"Dragonfly dress\"!"
   ],
   "metadata": {
    "collapsed": false
   }
  },
  {
   "cell_type": "markdown",
   "source": [
    "##### 2.2.2.2 Inspections related to the graphical appearance name attribute"
   ],
   "metadata": {
    "collapsed": false
   }
  },
  {
   "cell_type": "code",
   "execution_count": null,
   "outputs": [],
   "source": [
    "val countOfArticlesOfGraphicalAppearanceName = articlesDf.valueCounts { graphical_appearance_name }\n",
    "\n",
    "countOfArticlesOfGraphicalAppearanceName.describe()"
   ],
   "metadata": {
    "collapsed": false
   }
  },
  {
   "cell_type": "code",
   "execution_count": null,
   "outputs": [],
   "source": [
    "countOfArticlesOfGraphicalAppearanceName.plot {\n",
    "    bars { \n",
    "        x(graphical_appearance_name)\n",
    "        y(count)\n",
    "     }\n",
    "}"
   ],
   "metadata": {
    "collapsed": false
   }
  },
  {
   "cell_type": "markdown",
   "source": [
    "The simple solid appearance seems to dominate the articles! Let's calculate what percentage of every product has solid appearance!"
   ],
   "metadata": {
    "collapsed": false
   }
  },
  {
   "cell_type": "code",
   "execution_count": null,
   "outputs": [],
   "source": [
    "countOfArticlesOfGraphicalAppearanceName.filter { graphical_appearance_name == \"Solid\" }.count.values.first().toDouble() / countOfArticlesOfGraphicalAppearanceName.sum { count }.toDouble()"
   ],
   "metadata": {
    "collapsed": false
   }
  },
  {
   "cell_type": "markdown",
   "source": [
    "##### 2.2.2.3 Inspections related to the color group name attribute"
   ],
   "metadata": {
    "collapsed": false
   }
  },
  {
   "cell_type": "code",
   "execution_count": null,
   "outputs": [],
   "source": [
    "val countOfArticlesOfColorGroupName = articlesDf.valueCounts { colour_group_name }\n",
    "\n",
    "countOfArticlesOfColorGroupName.describe()"
   ],
   "metadata": {
    "collapsed": false
   }
  },
  {
   "cell_type": "code",
   "execution_count": null,
   "outputs": [],
   "source": [
    "countOfArticlesOfColorGroupName.plot {\n",
    "    bars { \n",
    "        x(colour_group_name)\n",
    "        y(count)\n",
    "     }\n",
    "}"
   ],
   "metadata": {
    "collapsed": false
   }
  },
  {
   "cell_type": "markdown",
   "source": [
    "Of course black is the most popular color!"
   ],
   "metadata": {
    "collapsed": false
   }
  },
  {
   "cell_type": "markdown",
   "source": [
    "##### 2.2.2.4 Inspections related to the perceived colour master name attribute"
   ],
   "metadata": {
    "collapsed": false
   }
  },
  {
   "cell_type": "code",
   "execution_count": null,
   "outputs": [],
   "source": [
    "val countOfPerceivedColourMasterName = articlesDf.valueCounts { perceived_colour_master_name }\n",
    "\n",
    "countOfPerceivedColourMasterName.describe()"
   ],
   "metadata": {
    "collapsed": false
   }
  },
  {
   "cell_type": "code",
   "execution_count": null,
   "outputs": [],
   "source": [
    "countOfPerceivedColourMasterName.plot {\n",
    "    bars { \n",
    "        x(perceived_colour_master_name)\n",
    "        y(count)\n",
    "     }\n",
    "}"
   ],
   "metadata": {
    "collapsed": false
   }
  },
  {
   "cell_type": "markdown",
   "source": [
    "##### 2.2.2.5 Inspections related to the color value name attribute"
   ],
   "metadata": {
    "collapsed": false
   }
  },
  {
   "cell_type": "code",
   "execution_count": null,
   "outputs": [],
   "source": [
    "val countOfPerceivedColourValueName = articlesDf.valueCounts { perceived_colour_value_name }\n",
    "\n",
    "countOfPerceivedColourValueName.describe()"
   ],
   "metadata": {
    "collapsed": false
   }
  },
  {
   "cell_type": "code",
   "execution_count": null,
   "outputs": [],
   "source": [
    "countOfPerceivedColourValueName.plot {\n",
    "    bars { \n",
    "        x(perceived_colour_value_name)\n",
    "        y(count)\n",
    "     }\n",
    "}"
   ],
   "metadata": {
    "collapsed": false
   }
  },
  {
   "cell_type": "markdown",
   "source": [
    "##### 2.2.2.6 Inspections related to the product type name attribute"
   ],
   "metadata": {
    "collapsed": false
   }
  },
  {
   "cell_type": "code",
   "execution_count": null,
   "outputs": [],
   "source": [
    "val countOfPorductTypeNames = articlesDf.valueCounts { product_type_name }\n",
    "\n",
    "countOfPorductTypeNames.describe()"
   ],
   "metadata": {
    "collapsed": false
   }
  },
  {
   "cell_type": "markdown",
   "source": [
    "At least one of the product type value belongs to 11169 articles! Let's see what is this product type name!"
   ],
   "metadata": {
    "collapsed": false
   }
  },
  {
   "cell_type": "code",
   "execution_count": null,
   "outputs": [],
   "source": [
    "countOfPorductTypeNames.filter { count == 11169 }"
   ],
   "metadata": {
    "collapsed": false
   }
  },
  {
   "cell_type": "markdown",
   "source": [
    "Interesting! I'd have guessed it would some kind of T-Shirt related value! Let's see the other most frequent values!"
   ],
   "metadata": {
    "collapsed": false
   }
  },
  {
   "cell_type": "code",
   "execution_count": null,
   "outputs": [],
   "source": [
    "countOfPorductTypeNames.head()"
   ],
   "metadata": {
    "collapsed": false
   }
  },
  {
   "cell_type": "markdown",
   "source": [
    "##### 2.2.2.7 Inspections related to the product group name attribute"
   ],
   "metadata": {
    "collapsed": false
   }
  },
  {
   "cell_type": "code",
   "execution_count": null,
   "outputs": [],
   "source": [
    "val countOfArticlesOfGroupName = articlesDf.valueCounts { product_group_name }\n",
    "\n",
    "countOfArticlesOfGroupName.describe()"
   ],
   "metadata": {
    "collapsed": false
   }
  },
  {
   "cell_type": "code",
   "execution_count": null,
   "outputs": [],
   "source": [
    "countOfArticlesOfGroupName.plot { \n",
    "    bars { \n",
    "        y(count)\n",
    "        x(product_group_name)\n",
    "     }\n",
    " }"
   ],
   "metadata": {
    "collapsed": false
   }
  },
  {
   "cell_type": "markdown",
   "source": [
    "##### 2.2.2.8 Inspections related to the department name attribute"
   ],
   "metadata": {
    "collapsed": false
   }
  },
  {
   "cell_type": "code",
   "execution_count": null,
   "outputs": [],
   "source": [
    "val countOfDepartmentName = articlesDf.valueCounts { department_name }\n",
    "\n",
    "countOfDepartmentName.describe()"
   ],
   "metadata": {
    "collapsed": false
   }
  },
  {
   "cell_type": "code",
   "execution_count": null,
   "outputs": [],
   "source": [
    "countOfDepartmentName.plot {\n",
    "    bars { \n",
    "        x(department_name)\n",
    "        y(count)\n",
    "     }\n",
    "     layout {\n",
    "         size = 1000 to 500\n",
    "     }\n",
    "}"
   ],
   "metadata": {
    "collapsed": false
   }
  },
  {
   "cell_type": "markdown",
   "source": [
    "##### 2.2.2.9 Inspections related to the index name attribute"
   ],
   "metadata": {
    "collapsed": false
   }
  },
  {
   "cell_type": "code",
   "execution_count": null,
   "outputs": [],
   "source": [
    "val countOfIndexName = articlesDf.valueCounts { index_name }\n",
    "\n",
    "countOfIndexName.describe()"
   ],
   "metadata": {
    "collapsed": false
   }
  },
  {
   "cell_type": "code",
   "execution_count": null,
   "outputs": [],
   "source": [
    "countOfIndexName.plot { \n",
    "    pie { \n",
    "        slice(count)\n",
    "        fillColor(index_name)\n",
    "        size = 20.0\n",
    "     }\n",
    " }"
   ],
   "metadata": {
    "collapsed": false
   }
  },
  {
   "cell_type": "markdown",
   "source": [
    "##### 2.2.2.10 Inspections related to the index group name attribute"
   ],
   "metadata": {
    "collapsed": false
   }
  },
  {
   "cell_type": "code",
   "execution_count": null,
   "outputs": [],
   "source": [
    "val countOfIndexGroupName = articlesDf.valueCounts { index_group_name }\n",
    "\n",
    "countOfIndexGroupName.describe()"
   ],
   "metadata": {
    "collapsed": false
   }
  },
  {
   "cell_type": "code",
   "execution_count": null,
   "outputs": [],
   "source": [
    "countOfIndexGroupName.plot {\n",
    "    pie {\n",
    "        slice(count)\n",
    "        fillColor(index_group_name)\n",
    "        explode(listOf(0, 0, 0, 0, 0.5))\n",
    "        size = 20.0\n",
    "    }\n",
    "}"
   ],
   "metadata": {
    "collapsed": false
   }
  },
  {
   "cell_type": "markdown",
   "source": [
    "##### 2.2.2.11 Inspections related to the section name attribute"
   ],
   "metadata": {
    "collapsed": false
   }
  },
  {
   "cell_type": "code",
   "execution_count": null,
   "outputs": [],
   "source": [
    "val countOfSectionName = articlesDf.valueCounts { section_name }\n",
    "\n",
    "countOfSectionName.describe()"
   ],
   "metadata": {
    "collapsed": false
   }
  },
  {
   "cell_type": "code",
   "execution_count": null,
   "outputs": [],
   "source": [
    "countOfSectionName.plot {\n",
    "    bars {\n",
    "        x(section_name)\n",
    "        y(count)\n",
    "    }\n",
    "    layout {\n",
    "        size = 1000 to 500\n",
    "    }\n",
    "}"
   ],
   "metadata": {
    "collapsed": false
   }
  },
  {
   "cell_type": "markdown",
   "source": [
    "##### 2.2.2.12 Inspections related to the garment group name attribute"
   ],
   "metadata": {
    "collapsed": false
   }
  },
  {
   "cell_type": "code",
   "execution_count": null,
   "outputs": [],
   "source": [
    "val countOfGarmentGroupName = articlesDf.valueCounts { garment_group_name }\n",
    "\n",
    "countOfGarmentGroupName.describe()"
   ],
   "metadata": {
    "collapsed": false
   }
  },
  {
   "cell_type": "code",
   "execution_count": null,
   "outputs": [],
   "source": [
    "countOfGarmentGroupName.plot {\n",
    "    bars {\n",
    "        x(garment_group_name)\n",
    "        y(count)\n",
    "    }\n",
    "    layout {\n",
    "        size = 1000 to 500\n",
    "    }\n",
    "}"
   ],
   "metadata": {
    "collapsed": false
   }
  },
  {
   "cell_type": "markdown",
   "source": [
    "#### 2.2.2 Inspections related to multiple attribute set"
   ],
   "metadata": {
    "collapsed": false
   }
  },
  {
   "cell_type": "markdown",
   "source": [
    "##### 2.2.2.1 Inspections related to the relationship of color related attributes"
   ],
   "metadata": {
    "collapsed": false
   }
  },
  {
   "cell_type": "markdown",
   "source": [
    "There are multiple color related attributes on the dataframe: perceived_colour_master_name, perceived_colour_value_name, colour_group_name. Let's inspect the relationship between them!"
   ],
   "metadata": {
    "collapsed": false
   }
  },
  {
   "cell_type": "markdown",
   "source": [
    "As it can be seen from the previous queries related to these attributes, their meanings can be defined as the following:\n",
    "- perceived_colour_value_name: shade attribute\n",
    "- perceived_colour_master_name: color attribute\n",
    "- colour_group_name: a color attribute with more unique values than perceived_colour_value_name"
   ],
   "metadata": {
    "collapsed": false
   }
  },
  {
   "cell_type": "markdown",
   "source": [
    "Let's compare the sizes of these attribute sets!\n",
    "1. perceived_colour_value_name: 8\n",
    "2. perceived_colour_master_name: 20\n",
    "3. colour_group_name: 50"
   ],
   "metadata": {
    "collapsed": false
   }
  },
  {
   "cell_type": "code",
   "execution_count": null,
   "outputs": [],
   "source": [
    "val countOfMasterAndValueColorVariables = articlesDf.valueCounts { perceived_colour_master_name and perceived_colour_value_name }\n",
    "val countOfMasterAndGroupColorVariables = articlesDf.valueCounts { perceived_colour_master_name and colour_group_name }\n",
    "val countOfValueAndGroupColorVariables = articlesDf.valueCounts { perceived_colour_value_name and colour_group_name }"
   ],
   "metadata": {
    "collapsed": false
   }
  },
  {
   "cell_type": "code",
   "execution_count": null,
   "outputs": [],
   "source": [
    "countOfMasterAndValueColorVariables.describe()"
   ],
   "metadata": {
    "collapsed": false
   }
  },
  {
   "cell_type": "code",
   "execution_count": null,
   "outputs": [],
   "source": [
    "countOfMasterAndValueColorVariables.plot { \n",
    "    points { \n",
    "        x(perceived_colour_value_name)\n",
    "        y(perceived_colour_master_name)\n",
    "        color(count)\n",
    "        size = 5.0\n",
    "     }\n",
    "     layout {\n",
    "         size = 1000 to 500\n",
    "     }\n",
    " }"
   ],
   "metadata": {
    "collapsed": false
   }
  },
  {
   "cell_type": "markdown",
   "source": [
    "Let's remove the perceived_colour_master_name values with the highest counts to learn more about the attributes with average counts!"
   ],
   "metadata": {
    "collapsed": false
   }
  },
  {
   "cell_type": "code",
   "execution_count": null,
   "outputs": [],
   "source": [
    "countOfMasterAndValueColorVariables.drop { perceived_colour_master_name in setOf(\"Black\", \"Blue\", \"White\") }.plot { \n",
    "    points { \n",
    "        x(perceived_colour_master_name)\n",
    "        y(perceived_colour_value_name)\n",
    "        color(count)\n",
    "        size = 5.0\n",
    "     }\n",
    "     layout {\n",
    "         size = 1000 to 500\n",
    "     }\n",
    " }"
   ],
   "metadata": {
    "collapsed": false
   }
  },
  {
   "cell_type": "code",
   "execution_count": null,
   "outputs": [],
   "source": [
    "countOfMasterAndGroupColorVariables.describe()"
   ],
   "metadata": {
    "collapsed": false
   }
  },
  {
   "cell_type": "code",
   "execution_count": null,
   "outputs": [],
   "source": [
    "countOfMasterAndGroupColorVariables.plot { \n",
    "    points { \n",
    "        x(perceived_colour_master_name)\n",
    "        y(colour_group_name)\n",
    "        color(count)\n",
    "        size = 5.0\n",
    "     }\n",
    "     layout {\n",
    "         size = 1000 to 1000\n",
    "     }\n",
    " }"
   ],
   "metadata": {
    "collapsed": false
   }
  },
  {
   "cell_type": "markdown",
   "source": [
    "Before looking at the data, I would have thought, that perceived_colour_master_name attributes will have pairs with only similar values from colour_group_name, for example blue with dark blue. But as we can see there are some surprising combinations like blue with grey."
   ],
   "metadata": {
    "collapsed": false
   }
  },
  {
   "cell_type": "markdown",
   "source": [],
   "metadata": {
    "collapsed": false
   }
  },
  {
   "cell_type": "markdown",
   "source": [
    "Let's remove again the values with the highest counts to have a better visualization about average values!"
   ],
   "metadata": {
    "collapsed": false
   }
  },
  {
   "cell_type": "code",
   "execution_count": null,
   "outputs": [],
   "source": [
    "countOfMasterAndGroupColorVariables.drop { perceived_colour_master_name in setOf(\"Black\", \"Blue\", \"White\") }.plot {\n",
    "    points {\n",
    "        x(perceived_colour_master_name)\n",
    "        y(colour_group_name)\n",
    "        color(count)\n",
    "        size = 5.0\n",
    "    }\n",
    "    layout {\n",
    "        size = 1000 to 1000\n",
    "    }\n",
    "}"
   ],
   "metadata": {
    "collapsed": false
   }
  },
  {
   "cell_type": "code",
   "execution_count": null,
   "outputs": [],
   "source": [
    "countOfValueAndGroupColorVariables.describe()"
   ],
   "metadata": {
    "collapsed": false
   }
  },
  {
   "cell_type": "code",
   "execution_count": null,
   "outputs": [],
   "source": [
    "countOfValueAndGroupColorVariables.plot { \n",
    "    points { \n",
    "        x(perceived_colour_value_name)\n",
    "        y(colour_group_name)\n",
    "        color(count)\n",
    "        size = 5.0\n",
    "     }\n",
    "     layout {\n",
    "         size = 1000 to 1000\n",
    "     }\n",
    " }"
   ],
   "metadata": {
    "collapsed": false
   }
  },
  {
   "cell_type": "markdown",
   "source": [
    "Let's remove once more the values with the highest counts to have a better visualization about average values!"
   ],
   "metadata": {
    "collapsed": false
   }
  },
  {
   "cell_type": "code",
   "execution_count": null,
   "outputs": [],
   "source": [
    "countOfValueAndGroupColorVariables.drop { perceived_colour_value_name in setOf(\"Dark\", \"Light\") }.plot { \n",
    "    points { \n",
    "        x(perceived_colour_value_name)\n",
    "        y(colour_group_name)\n",
    "        color(count)\n",
    "        size = 5.0\n",
    "     }\n",
    "     layout {\n",
    "         size = 1000 to 1000\n",
    "     }\n",
    " }"
   ],
   "metadata": {
    "collapsed": false
   }
  },
  {
   "cell_type": "markdown",
   "source": [
    "##### 2.2.2.2 Inspections related to the relationship of the grouping related attributes"
   ],
   "metadata": {
    "collapsed": false
   }
  },
  {
   "cell_type": "markdown",
   "source": [
    "There are many attributes, that characterize the articles by the target audience age group, body part, gender and use case. Let's inspect these attributes and try to find the relationship between them!"
   ],
   "metadata": {
    "collapsed": false
   }
  },
  {
   "cell_type": "markdown",
   "source": [
    "As it can be seen from the previous queries related to these attributes, they can be described as the following:\n",
    "- index_group_name: classifies the articles by age, gender and use case in a general way\n",
    "- index_name: classifies the articles by age, gender and use case in a more detailed way than index_group_name\n",
    "- section_name: classifies the articles by age, gender, use case\n",
    "- department_name: classifies the articles by age, gender, use case and body part\n",
    "- garment_group_name: classifies the articles by body part, gender and use case\n",
    "- product_type_name: classifies the articles by body part and use case in a more specific way\n",
    "- product_group_name: classifies the articles by body part and use case in a rather general way"
   ],
   "metadata": {
    "collapsed": false
   }
  },
  {
   "cell_type": "markdown",
   "source": [
    "Let's compare the sizes of these attribute sets!\n",
    "- index_group_name: 5\n",
    "- index_name: 10\n",
    "- section_name: 56\n",
    "- department_name: 250\n",
    "- garment_group_name: 21\n",
    "- product_type_name: 131\n",
    "- product_group_name: 19\n",
    "\n",
    "So the attribute sets' ascending order by size is the following:\n",
    "1. index_group_name (5)\n",
    "2. index_name (10)\n",
    "3. product_group_name (19)\n",
    "4. garment_group_name (21)\n",
    "5. section_name (56)\n",
    "6. product_type_name (131)\n",
    "7. department_name (250)"
   ],
   "metadata": {
    "collapsed": false
   }
  },
  {
   "cell_type": "code",
   "execution_count": null,
   "outputs": [],
   "source": [
    "val countOfIndexGroupAndNameAttributes = articlesDf.valueCounts { index_group_name and index_name }\n",
    "val countOfIndexGroupNameAndSectionNameAttributes = articlesDf.valueCounts { index_group_name and section_name }\n",
    "\n",
    "val departmentNamesWithGarmentGroups = articlesDf.select { department_name and garment_group_name }.distinct()\n",
    "\n",
    "val countOfProductTypeAndGroupNameAttributes = articlesDf.valueCounts { product_type_name and product_group_name }\n",
    "\n",
    "val countOfSectionNameAndGarmentGroupAttributes = articlesDf.valueCounts { section_name and garment_group_name }\n",
    "\n",
    "val countOfProductAndGarmentGroupAttributes = articlesDf.valueCounts { product_group_name and garment_group_name }\n",
    "\n",
    "val countOfIndexAndProductGroupNameAttributes = articlesDf.valueCounts { index_group_name and product_group_name }"
   ],
   "metadata": {
    "collapsed": false
   }
  },
  {
   "cell_type": "markdown",
   "source": [
    "Let's first compare index group and index attributes!"
   ],
   "metadata": {
    "collapsed": false
   }
  },
  {
   "cell_type": "code",
   "execution_count": null,
   "outputs": [],
   "source": [
    "countOfIndexGroupAndNameAttributes.describe { count }"
   ],
   "metadata": {
    "collapsed": false
   }
  },
  {
   "cell_type": "code",
   "execution_count": null,
   "outputs": [],
   "source": [
    "countOfIndexGroupAndNameAttributes.plot {\n",
    "        points { \n",
    "        x(index_name)\n",
    "        y(index_group_name)\n",
    "        color(count)\n",
    "        size = 5.0\n",
    "     }\n",
    "     layout {\n",
    "         size = 1000 to 500\n",
    "     }\n",
    "}"
   ],
   "metadata": {
    "collapsed": false
   }
  },
  {
   "cell_type": "markdown",
   "source": [
    "As it can be seen from the chart, there is a strong connection between the two attributes."
   ],
   "metadata": {
    "collapsed": false
   }
  },
  {
   "cell_type": "markdown",
   "source": [
    "Next, let's check index group and section name attribute sets."
   ],
   "metadata": {
    "collapsed": false
   }
  },
  {
   "cell_type": "code",
   "execution_count": null,
   "outputs": [],
   "source": [
    "countOfIndexGroupNameAndSectionNameAttributes.describe()"
   ],
   "metadata": {
    "collapsed": false
   }
  },
  {
   "cell_type": "code",
   "execution_count": null,
   "outputs": [],
   "source": [
    "countOfIndexGroupNameAndSectionNameAttributes.plot { \n",
    "    points { \n",
    "        x(index_group_name)\n",
    "        y(section_name)\n",
    "        color(count)\n",
    "        size = 5.0\n",
    "     }\n",
    "     layout {\n",
    "         size = 1000 to 900\n",
    "     }\n",
    "}"
   ],
   "metadata": {
    "collapsed": false
   }
  },
  {
   "cell_type": "markdown",
   "source": [
    "Every value of section_name belongs to only one value of index_group_name except \"Ladies Denim\", that classifies articles in pair not only with \"Ladieswear\" but also \"Divided\" index_group_name attribute values!"
   ],
   "metadata": {
    "collapsed": false
   }
  },
  {
   "cell_type": "markdown",
   "source": [
    "Next, let's check out department and garment group attribute sets!"
   ],
   "metadata": {
    "collapsed": false
   }
  },
  {
   "cell_type": "code",
   "execution_count": null,
   "outputs": [],
   "source": [
    "departmentNamesWithGarmentGroups.describe()"
   ],
   "metadata": {
    "collapsed": false
   }
  },
  {
   "cell_type": "code",
   "execution_count": null,
   "outputs": [],
   "source": [
    "departmentNamesWithGarmentGroups.filter { department_name == \"OL Extended Sizes\" }"
   ],
   "metadata": {
    "collapsed": false
   }
  },
  {
   "cell_type": "markdown",
   "source": [
    "Every value of department_name belongs to only one value of garment_group_name except \"OL Extended Sizes\", that classifies articles in pair not only with \"Trousers Denim\" but also \"Jersey Basic\" attribute values!"
   ],
   "metadata": {
    "collapsed": false
   }
  },
  {
   "cell_type": "markdown",
   "source": [
    "Next let's see product_type_name and product_group_name! They have similar names, so I suspect we will find some kind of clear relationship between the values!"
   ],
   "metadata": {
    "collapsed": false
   }
  },
  {
   "cell_type": "code",
   "execution_count": null,
   "outputs": [],
   "source": [
    "countOfProductTypeAndGroupNameAttributes.describe()"
   ],
   "metadata": {
    "collapsed": false
   }
  },
  {
   "cell_type": "markdown",
   "source": [
    "Similarly to the cases before this inspection, every value of product_type_name belongs to only one value of product_group_name except Umbrella value!"
   ],
   "metadata": {
    "collapsed": false
   }
  },
  {
   "cell_type": "code",
   "execution_count": null,
   "outputs": [],
   "source": [
    "countOfProductTypeAndGroupNameAttributes.filter { product_type_name == \"Umbrella\" }"
   ],
   "metadata": {
    "collapsed": false
   }
  },
  {
   "cell_type": "code",
   "execution_count": null,
   "outputs": [],
   "source": [
    "countOfProductTypeAndGroupNameAttributes.plot { \n",
    "    points { \n",
    "        x(product_group_name)\n",
    "        y(product_type_name)\n",
    "        color(count)\n",
    "        size = 5.0\n",
    "     }\n",
    "     layout {\n",
    "         size = 1000 to 900\n",
    "     }\n",
    "}"
   ],
   "metadata": {
    "collapsed": false
   }
  },
  {
   "cell_type": "markdown",
   "source": [
    "Next let's check section name and garment group attributes! As I understood the meaning of values, I reckon we should see some kind of relationship as well!"
   ],
   "metadata": {
    "collapsed": false
   }
  },
  {
   "cell_type": "code",
   "execution_count": null,
   "outputs": [],
   "source": [
    "countOfSectionNameAndGarmentGroupAttributes.describe()"
   ],
   "metadata": {
    "collapsed": false
   }
  },
  {
   "cell_type": "code",
   "execution_count": null,
   "outputs": [],
   "source": [
    "countOfSectionNameAndGarmentGroupAttributes.plot { \n",
    "    points { \n",
    "        x(garment_group_name)\n",
    "        y(section_name)\n",
    "        color(count)\n",
    "        size = 5.0\n",
    "     }\n",
    "     layout {\n",
    "         size = 1000 to 900\n",
    "     }\n",
    "}"
   ],
   "metadata": {
    "collapsed": false
   }
  },
  {
   "cell_type": "markdown",
   "source": [
    "There are some logical pairings between the values, but in this case, we can't see that simple relationship between the values as we've seen before!"
   ],
   "metadata": {
    "collapsed": false
   }
  },
  {
   "cell_type": "markdown",
   "source": [
    "Next let's inspect product_group_name and garment_group_name attribute sets!"
   ],
   "metadata": {
    "collapsed": false
   }
  },
  {
   "cell_type": "code",
   "execution_count": null,
   "outputs": [],
   "source": [
    "countOfProductAndGarmentGroupAttributes.describe()"
   ],
   "metadata": {
    "collapsed": false
   }
  },
  {
   "cell_type": "code",
   "execution_count": null,
   "outputs": [],
   "source": [
    "countOfProductAndGarmentGroupAttributes.plot {\n",
    "        points { \n",
    "        x(product_group_name)\n",
    "        y(garment_group_name)\n",
    "        color(count)\n",
    "        size = 5.0\n",
    "     }\n",
    "     layout {\n",
    "         size = 1000 to 900\n",
    "     }\n",
    "}"
   ],
   "metadata": {
    "collapsed": false
   }
  },
  {
   "cell_type": "markdown",
   "source": [
    "Again, the relationship between this attribute set is not as simple as in the first cases!"
   ],
   "metadata": {
    "collapsed": false
   }
  },
  {
   "cell_type": "markdown",
   "source": [
    "Lastly let's inspect index_group_name and product_group_name attribute sets!"
   ],
   "metadata": {
    "collapsed": false
   }
  },
  {
   "cell_type": "code",
   "execution_count": null,
   "outputs": [],
   "source": [
    "countOfIndexAndProductGroupNameAttributes.describe()"
   ],
   "metadata": {
    "collapsed": false
   }
  },
  {
   "cell_type": "code",
   "execution_count": null,
   "outputs": [],
   "source": [
    "countOfIndexAndProductGroupNameAttributes.plot { \n",
    "    points { \n",
    "        x(index_group_name)\n",
    "        y(product_group_name)\n",
    "        color(count)\n",
    "        size = 5.0\n",
    "     }\n",
    "     layout {\n",
    "         size = 1000 to 900\n",
    "     }\n",
    "}"
   ],
   "metadata": {
    "collapsed": false
   }
  },
  {
   "cell_type": "markdown",
   "source": [
    "Yet again a rather complex relation!"
   ],
   "metadata": {
    "collapsed": false
   }
  },
  {
   "cell_type": "markdown",
   "source": [
    "Based on these, the attribute sets can be broken down into three groups that are true for groups that are true for the contained attribute sets in pairs, that the elements of one are more specific formulations of the elements of the other:\n",
    "1. Group 1\n",
    "    - index_group_name\n",
    "    - index_name\n",
    "    - section_name\n",
    "2. Group 2\n",
    "    - garment_group_name\n",
    "    - department_name\n",
    "3. Group 3\n",
    "    - product_group_name\n",
    "    - product_type_name"
   ],
   "metadata": {
    "collapsed": false
   }
  },
  {
   "cell_type": "markdown",
   "source": [
    "##### 2.2.2.3 Inspections related to the relationship between graphical appearance and color attributes"
   ],
   "metadata": {
    "collapsed": false
   }
  },
  {
   "cell_type": "markdown",
   "source": [],
   "metadata": {
    "collapsed": false
   }
  },
  {
   "cell_type": "code",
   "execution_count": null,
   "outputs": [],
   "source": [
    "val countOfPerceivedColorValueAndGraphicalAppearanceAttributes = articlesDf.valueCounts { graphical_appearance_name and perceived_colour_value_name }"
   ],
   "metadata": {
    "collapsed": false
   }
  },
  {
   "cell_type": "code",
   "execution_count": null,
   "outputs": [],
   "source": [
    "countOfPerceivedColorValueAndGraphicalAppearanceAttributes.describe()"
   ],
   "metadata": {
    "collapsed": false
   }
  },
  {
   "cell_type": "code",
   "execution_count": null,
   "outputs": [],
   "source": [
    "countOfPerceivedColorValueAndGraphicalAppearanceAttributes.plot {\n",
    "    points { \n",
    "        x(perceived_colour_value_name)\n",
    "        y(graphical_appearance_name)\n",
    "        color(count)\n",
    "     }\n",
    "     layout {\n",
    "         size = 1000 to 800\n",
    "     }\n",
    "}"
   ],
   "metadata": {
    "collapsed": false
   }
  },
  {
   "cell_type": "markdown",
   "source": [
    "There are a lot of solid dark articles! We can also see, that there are some articles for every meaningful attribute combination!"
   ],
   "metadata": {
    "collapsed": false
   }
  },
  {
   "cell_type": "markdown",
   "source": [
    "### 2.2 Examination specifically related to customers"
   ],
   "metadata": {
    "collapsed": false
   }
  },
  {
   "cell_type": "markdown",
   "source": [
    "#### 2.2.1 Basic inspections about the customers"
   ],
   "metadata": {
    "collapsed": false
   }
  },
  {
   "cell_type": "markdown",
   "source": [
    "Let's read the first items in the customers dataframe!"
   ],
   "metadata": {
    "collapsed": false
   }
  },
  {
   "cell_type": "code",
   "execution_count": null,
   "outputs": [],
   "source": [
    "customersDf.head()"
   ],
   "metadata": {
    "collapsed": false
   }
  },
  {
   "cell_type": "markdown",
   "source": [
    "Let's check if there is any duplicate row!"
   ],
   "metadata": {
    "collapsed": false
   }
  },
  {
   "cell_type": "code",
   "execution_count": null,
   "outputs": [],
   "source": [
    "customersDf.describe()"
   ],
   "metadata": {
    "collapsed": false
   }
  },
  {
   "cell_type": "markdown",
   "source": [
    "We can see from the unique count and count attribute values of customer_id, that there is no duplicated row in the dataframe!"
   ],
   "metadata": {
    "collapsed": false
   }
  },
  {
   "cell_type": "markdown",
   "source": [
    "#### 2.2.2 Inspections related to the age attribute"
   ],
   "metadata": {
    "collapsed": false
   }
  },
  {
   "cell_type": "markdown",
   "source": [
    "Let's inspect the age attribute of customers!"
   ],
   "metadata": {
    "collapsed": false
   }
  },
  {
   "cell_type": "code",
   "execution_count": null,
   "outputs": [],
   "source": [
    "customersDf.describe { age }"
   ],
   "metadata": {
    "collapsed": false
   }
  },
  {
   "cell_type": "markdown",
   "source": [
    "This is fascinating! The youngest user is 16 years old while the oldest is 99! (Assuming the users are honest about their ages!) I thought the user base would be much younger, I would have guessed that the median and mean values are lower than 30! The most common age is 21, which does not look surprising in my opinion! The standard deviation looks also sensible!"
   ],
   "metadata": {
    "collapsed": false
   }
  },
  {
   "cell_type": "markdown",
   "source": [
    "Let's see how many people are in the age groups! Let's also create a bar chart to visualize this information!"
   ],
   "metadata": {
    "collapsed": false
   }
  },
  {
   "cell_type": "code",
   "execution_count": null,
   "outputs": [],
   "source": [
    "val countOfAge = customersDf.valueCounts() { age }.sortBy { age }\n",
    "\n",
    "countOfAge.describe()"
   ],
   "metadata": {
    "collapsed": false
   }
  },
  {
   "cell_type": "code",
   "execution_count": null,
   "outputs": [],
   "source": [
    "countOfAge.plot { \n",
    "    bars { \n",
    "        x(age)\n",
    "        y(count)\n",
    "     }\n",
    " }"
   ],
   "metadata": {
    "collapsed": false
   }
  },
  {
   "cell_type": "markdown",
   "source": [
    "The most surprising part of this barchart is the pit at the 40 years olds!"
   ],
   "metadata": {
    "collapsed": false
   }
  },
  {
   "cell_type": "markdown",
   "source": [
    "#### 2.2.3 Inspections related to the postal code attribute"
   ],
   "metadata": {
    "collapsed": false
   }
  },
  {
   "cell_type": "markdown",
   "source": [
    "It could be interesting to see how users are distributed according to their place of residence!"
   ],
   "metadata": {
    "collapsed": false
   }
  },
  {
   "cell_type": "code",
   "execution_count": null,
   "outputs": [],
   "source": [
    "customersDf.describe { postal_code }"
   ],
   "metadata": {
    "collapsed": false
   }
  },
  {
   "cell_type": "markdown",
   "source": [
    "It seems that the most densely populated settlement of the users contains 120303 users! This seems a lot! I wonder if this information is accurate! Also, there are 352899 unique settlement populated by the users, this is also a huge number!"
   ],
   "metadata": {
    "collapsed": false
   }
  },
  {
   "cell_type": "code",
   "execution_count": null,
   "outputs": [],
   "source": [
    "val countOfPostalCode = customersDf.valueCounts { postal_code }\n",
    "countOfPostalCode"
   ],
   "metadata": {
    "collapsed": false
   }
  },
  {
   "cell_type": "markdown",
   "source": [
    "Based on the huge difference between the most and second most populated settlement, it seems something is definitely wrong with the settlement that is inhabited by most people!"
   ],
   "metadata": {
    "collapsed": false
   }
  },
  {
   "cell_type": "markdown",
   "source": [
    "Let's analyze next that usually how many customer live in the same settlement!"
   ],
   "metadata": {
    "collapsed": false
   }
  },
  {
   "cell_type": "code",
   "execution_count": null,
   "outputs": [],
   "source": [
    "customersByPostalCode.describe { count }"
   ],
   "metadata": {
    "collapsed": false
   }
  },
  {
   "cell_type": "code",
   "execution_count": null,
   "outputs": [],
   "source": [
    "val customerPopulationValuesBySettlements = customersByPostalCode.values { count }.toList()\n",
    "\n",
    "plot(\n",
    "    mapOf(\n",
    "        \"x\" to listOf(\"customers\"),\n",
    "        \"min\" to listOf(customerPopulationValuesBySettlements.last()),\n",
    "        \"lower\" to listOf(customerPopulationValuesBySettlements[customerPopulationValuesBySettlements.size / 4 * 3]),\n",
    "        \"middle\" to listOf(customerPopulationValuesBySettlements[customerPopulationValuesBySettlements.size / 2]),\n",
    "        \"upper\" to listOf(customerPopulationValuesBySettlements[customerPopulationValuesBySettlements.size / 4]),\n",
    "        \"max\" to listOf(customerPopulationValuesBySettlements.first()),\n",
    "    )\n",
    ") {\n",
    "    boxplot { \n",
    "        x(\"x\"<String>())\n",
    "        yMin(\"min\"<Int>())\n",
    "        lower(\"lower\"<Int>())\n",
    "        middle(\"middle\"<Int>())\n",
    "        upper(\"upper\"<Int>())\n",
    "        yMax(\"max\"<Int>())\n",
    "     }\n",
    "     y {\n",
    "         axis.name = \"population\"\n",
    "     }\n",
    " }"
   ],
   "metadata": {
    "collapsed": false
   }
  },
  {
   "cell_type": "markdown",
   "source": [
    "Let's remove the outlier maximum value hoping that way we get a more meaningful chart!"
   ],
   "metadata": {
    "collapsed": false
   }
  },
  {
   "cell_type": "code",
   "execution_count": null,
   "outputs": [],
   "source": [
    "plot(\n",
    "    mapOf(\n",
    "        \"x\" to listOf(\"customers\"),\n",
    "        \"min\" to listOf(customerPopulationValuesBySettlements[2]),\n",
    "        \"lower\" to listOf(customerPopulationValuesBySettlements[customerPopulationValuesBySettlements.size / 4]),\n",
    "        \"middle\" to listOf(customerPopulationValuesBySettlements[customerPopulationValuesBySettlements.size / 2]),\n",
    "        \"upper\" to listOf(customerPopulationValuesBySettlements[customerPopulationValuesBySettlements.size / 4 * 3]),\n",
    "        \"max\" to listOf(customerPopulationValuesBySettlements.last()),\n",
    "    )\n",
    ") {\n",
    "    boxplot { \n",
    "        x(\"x\"<String>())\n",
    "        yMin(\"min\"<Int>())\n",
    "        lower(\"lower\"<Int>())\n",
    "        middle(\"middle\"<Int>())\n",
    "        upper(\"upper\"<Int>())\n",
    "        yMax(\"max\"<Int>())\n",
    "     }\n",
    "     y {\n",
    "         axis.name = \"population\"\n",
    "     }\n",
    " }"
   ],
   "metadata": {
    "collapsed": false
   }
  },
  {
   "cell_type": "markdown",
   "source": [
    "Seems like in the majority of the cases, few customer share the same postal code!"
   ],
   "metadata": {
    "collapsed": false
   }
  },
  {
   "cell_type": "markdown",
   "source": [
    "### 2.3 Examination specifically related to transactions"
   ],
   "metadata": {
    "collapsed": false
   }
  },
  {
   "cell_type": "markdown",
   "source": [
    "Firstly, let's read the first items in the transactions dataframe!"
   ],
   "metadata": {
    "collapsed": false
   }
  },
  {
   "cell_type": "markdown",
   "source": [
    "#### 2.3.1 Inspection of transactions made in the first year period"
   ],
   "metadata": {
    "collapsed": false
   }
  },
  {
   "cell_type": "code",
   "execution_count": null,
   "outputs": [],
   "source": [
    "firstYeartransactionsDf.describe()"
   ],
   "metadata": {
    "collapsed": false
   }
  },
  {
   "cell_type": "markdown",
   "source": [
    "Much interesting information can be read, for instance at least one user made 897 transactions in the inspected time period!"
   ],
   "metadata": {
    "collapsed": false
   }
  },
  {
   "cell_type": "code",
   "execution_count": null,
   "outputs": [],
   "source": [
    "val firstYearTransactionsDailyCount = firstYeartransactionsDf.valueCounts { t_dat }\n",
    "\n",
    "firstYearTransactionsDailyCount.describe()"
   ],
   "metadata": {
    "collapsed": false
   }
  },
  {
   "cell_type": "code",
   "execution_count": null,
   "outputs": [],
   "source": [
    "firstYearTransactionsDailyCount.plot { \n",
    "    line {\n",
    "        x(t_dat)\n",
    "        y(count)\n",
    "    }\n",
    " }"
   ],
   "metadata": {
    "collapsed": false
   }
  },
  {
   "cell_type": "markdown",
   "source": [
    "Wow, holidays have an enormous impact on the sales!"
   ],
   "metadata": {
    "collapsed": false
   }
  },
  {
   "cell_type": "code",
   "execution_count": null,
   "outputs": [],
   "source": [
    "val firstYearTransactionsDailyAmount = firstYeartransactionsDf.groupBy { t_dat }.sum { price }\n",
    "\n",
    "firstYearTransactionsDailyAmount.describe()"
   ],
   "metadata": {
    "collapsed": false
   }
  },
  {
   "cell_type": "code",
   "execution_count": null,
   "outputs": [],
   "source": [
    "firstYearTransactionsDailyAmount.plot { \n",
    "    line {\n",
    "        x(t_dat)\n",
    "        y(price)\n",
    "    }\n",
    " }"
   ],
   "metadata": {
    "collapsed": false
   }
  },
  {
   "cell_type": "markdown",
   "source": [
    "This graph looks really similar to the one that measures the count of the transactions! There is probably a strong correlation between them, let's calculate it!"
   ],
   "metadata": {
    "collapsed": false
   }
  },
  {
   "cell_type": "code",
   "execution_count": null,
   "outputs": [],
   "source": [
    "val firstYearTransactionsCountAndAmounts = firstYearTransactionsDailyCount.join(firstYearTransactionsDailyAmount) { t_dat }\n",
    "\n",
    "firstYearTransactionsCountAndAmounts.head()"
   ],
   "metadata": {
    "collapsed": false
   }
  },
  {
   "cell_type": "code",
   "execution_count": null,
   "outputs": [],
   "source": [
    "firstYearTransactionsCountAndAmounts.corr { count }.with { price }"
   ],
   "metadata": {
    "collapsed": false
   }
  },
  {
   "cell_type": "markdown",
   "source": [
    "As expected, the correlation between the count and amount of transactions is indeed very high!"
   ],
   "metadata": {
    "collapsed": false
   }
  },
  {
   "cell_type": "markdown",
   "source": [
    "Let's inspect next that how many transactions does an ordinary user!"
   ],
   "metadata": {
    "collapsed": false
   }
  },
  {
   "cell_type": "code",
   "execution_count": null,
   "outputs": [],
   "source": [
    "val firstYearTransactionsCountOfTransactionsForCustomers = customersDf.select { customer_id }.leftJoin(firstYeartransactionsDf.valueCounts { customer_id }) { customer_id }.fillNulls { colsOf<Int?>() }.withZero()\n",
    "\n",
    "firstYearTransactionsCountOfTransactionsForCustomers.describe()"
   ],
   "metadata": {
    "collapsed": false
   }
  },
  {
   "cell_type": "markdown",
   "source": [
    "Let's check now without the customers, that did no transactions in the inspected time period!"
   ],
   "metadata": {
    "collapsed": false
   }
  },
  {
   "cell_type": "code",
   "execution_count": null,
   "outputs": [],
   "source": [
    "firstYearTransactionsCountOfTransactionsForCustomers.drop { count == 0 }.describe()"
   ],
   "metadata": {
    "collapsed": false
   }
  },
  {
   "cell_type": "markdown",
   "source": [
    "Let's inspect that how are transactions are distributed between the age groups of users!"
   ],
   "metadata": {
    "collapsed": false
   }
  },
  {
   "cell_type": "code",
   "execution_count": null,
   "outputs": [],
   "source": [
    "val firstYearTransactionsCountOfTransactionsForCustomerAge = customersDf.select { customer_id and age }.join(firstYeartransactionsDf.valueCounts { customer_id }) { customer_id }.valueCounts { age }\n",
    "\n",
    "firstYearTransactionsCountOfTransactionsForCustomerAge.describe()"
   ],
   "metadata": {
    "collapsed": false
   }
  },
  {
   "cell_type": "code",
   "execution_count": null,
   "outputs": [],
   "source": [
    "firstYearTransactionsCountOfTransactionsForCustomerAge.plot {\n",
    "    bars { \n",
    "        x(age)\n",
    "        y(count1)\n",
    "     }\n",
    "}"
   ],
   "metadata": {
    "collapsed": false
   }
  },
  {
   "cell_type": "markdown",
   "source": [
    "This graph looks quite similar to the customer age distribution graph. Seems like regardless of age, customers buy in similar quantities. Let's calculate the correlation to prove this statement!"
   ],
   "metadata": {
    "collapsed": false
   }
  },
  {
   "cell_type": "code",
   "execution_count": null,
   "outputs": [],
   "source": [
    "countOfAge.join(firstYearTransactionsCountOfTransactionsForCustomerAge) { age }.corr { count }.with { \"count1\"<Int>() }"
   ],
   "metadata": {
    "collapsed": false
   }
  },
  {
   "cell_type": "markdown",
   "source": [
    "As expected, the correlation is indeed quite high!"
   ],
   "metadata": {
    "collapsed": false
   }
  },
  {
   "cell_type": "markdown",
   "source": [
    "In the following cells, let's inspect that what kind of articles are sold in what quantities!"
   ],
   "metadata": {
    "collapsed": false
   }
  },
  {
   "cell_type": "code",
   "execution_count": null,
   "outputs": [],
   "source": [
    "val firstTransactionsCountOfPurchasedArticles = articlesDf.select { article_id }.leftJoin(firstYeartransactionsDf.valueCounts { article_id }) { article_id }.fillNulls { colsOf<Int?>() }.withZero()\n",
    "\n",
    "firstTransactionsCountOfPurchasedArticles.describe()"
   ],
   "metadata": {
    "collapsed": false
   }
  },
  {
   "cell_type": "code",
   "execution_count": null,
   "outputs": [],
   "source": [
    "firstTransactionsCountOfPurchasedArticles.sortBy { count.desc() }.head().join(articlesDf) { article_id }"
   ],
   "metadata": {
    "collapsed": false
   }
  },
  {
   "cell_type": "code",
   "execution_count": null,
   "outputs": [],
   "source": [
    "articlesDf.select { article_id and index_group_name }.join(firstYeartransactionsDf) { article_id }.valueCounts { index_group_name }.plot {\n",
    "    bars { \n",
    "        x(index_group_name)\n",
    "        y(\"count\"<Int?>())\n",
    "     }\n",
    "}"
   ],
   "metadata": {
    "collapsed": false
   }
  },
  {
   "cell_type": "code",
   "execution_count": null,
   "outputs": [],
   "source": [
    "articlesDf.select { article_id and section_name }.join(firstYeartransactionsDf) { article_id }.valueCounts { section_name }.plot {\n",
    "    bars { \n",
    "        x(section_name)\n",
    "        y(\"count\"<Int?>())\n",
    "     }\n",
    "     layout {\n",
    "         size = 800 to 600\n",
    "     }\n",
    "}"
   ],
   "metadata": {
    "collapsed": false
   }
  },
  {
   "cell_type": "markdown",
   "source": [
    "As I was expecting, the woman sections are dominating!"
   ],
   "metadata": {
    "collapsed": false
   }
  },
  {
   "cell_type": "code",
   "execution_count": null,
   "outputs": [],
   "source": [
    "articlesDf.select { article_id and garment_group_name }.join(firstYeartransactionsDf) { article_id }.valueCounts { garment_group_name }.plot {\n",
    "    bars { \n",
    "        x(garment_group_name)\n",
    "        y(\"count\"<Int?>())\n",
    "     }\n",
    "     layout {\n",
    "         size = 800 to 600\n",
    "     }\n",
    "}"
   ],
   "metadata": {
    "collapsed": false
   }
  },
  {
   "cell_type": "code",
   "execution_count": null,
   "outputs": [],
   "source": [
    "articlesDf.select { article_id and product_group_name }.join(firstYeartransactionsDf) { article_id }.valueCounts { product_group_name }.plot {\n",
    "    bars { \n",
    "        x(product_group_name)\n",
    "        y(\"count\"<Int?>())\n",
    "     }\n",
    "     layout {\n",
    "         size = 800 to 600\n",
    "     }\n",
    "}"
   ],
   "metadata": {
    "collapsed": false
   }
  },
  {
   "cell_type": "markdown",
   "source": [
    "As I expected, most purchases are related to upper body related clothes."
   ],
   "metadata": {
    "collapsed": false
   }
  },
  {
   "cell_type": "markdown",
   "source": [
    "#### 2.3.2 Inspection of transactions made in the second year period"
   ],
   "metadata": {
    "collapsed": false
   }
  },
  {
   "cell_type": "markdown",
   "source": [
    "Let's do similar inspections on the data of the second year period!"
   ],
   "metadata": {
    "collapsed": false
   }
  },
  {
   "cell_type": "code",
   "execution_count": null,
   "outputs": [],
   "source": [
    "secondYeartransactionsDf.describe()"
   ],
   "metadata": {
    "collapsed": false
   }
  },
  {
   "cell_type": "code",
   "execution_count": null,
   "outputs": [],
   "source": [
    "val secondYearTransactionsDailyCount = secondYeartransactionsDf.valueCounts { t_dat }\n",
    "\n",
    "secondYearTransactionsDailyCount.describe()"
   ],
   "metadata": {
    "collapsed": false
   }
  },
  {
   "cell_type": "code",
   "execution_count": null,
   "outputs": [],
   "source": [
    "secondYearTransactionsDailyCount.plot { \n",
    "    line {\n",
    "        x(t_dat)\n",
    "        y(count)\n",
    "    }\n",
    " }"
   ],
   "metadata": {
    "collapsed": false
   }
  },
  {
   "cell_type": "markdown",
   "source": [
    "This graph seems quite similar to the previous time period's!"
   ],
   "metadata": {
    "collapsed": false
   }
  },
  {
   "cell_type": "code",
   "execution_count": null,
   "outputs": [],
   "source": [
    "val secondTransactionsCountOfPurchasedArticles = articlesDf.select { article_id }.leftJoin(secondYeartransactionsDf.valueCounts { article_id }) { article_id }.fillNulls { colsOf<Int?>() }.withZero()\n",
    "\n",
    "secondTransactionsCountOfPurchasedArticles.describe()"
   ],
   "metadata": {
    "collapsed": false
   }
  },
  {
   "cell_type": "code",
   "execution_count": null,
   "outputs": [],
   "source": [
    "secondTransactionsCountOfPurchasedArticles.sortBy { count.desc() }.head().join(articlesDf) { article_id }"
   ],
   "metadata": {
    "collapsed": false
   }
  },
  {
   "cell_type": "code",
   "execution_count": null,
   "outputs": [],
   "source": [
    "articlesDf.select { article_id and index_group_name }.join(secondYeartransactionsDf) { article_id }.valueCounts { index_group_name }.plot {\n",
    "    bars { \n",
    "        x(index_group_name)\n",
    "        y(\"count\"<Int?>())\n",
    "     }\n",
    "}"
   ],
   "metadata": {
    "collapsed": false
   }
  },
  {
   "cell_type": "code",
   "execution_count": null,
   "outputs": [],
   "source": [
    "articlesDf.select { article_id and section_name }.join(secondYeartransactionsDf) { article_id }\n",
    "    .valueCounts { section_name }.plot {\n",
    "    bars {\n",
    "        x(section_name)\n",
    "        y(\"count\"<Int?>())\n",
    "    }\n",
    "    layout {\n",
    "        size = 800 to 600\n",
    "    }\n",
    "}"
   ],
   "metadata": {
    "collapsed": false
   }
  },
  {
   "cell_type": "code",
   "execution_count": null,
   "outputs": [],
   "source": [
    "articlesDf.select { article_id and garment_group_name }.join(secondYeartransactionsDf) { article_id }.valueCounts { garment_group_name }.plot {\n",
    "    bars { \n",
    "        x(garment_group_name)\n",
    "        y(\"count\"<Int?>())\n",
    "     }\n",
    "     layout {\n",
    "         size = 800 to 600\n",
    "     }\n",
    "}"
   ],
   "metadata": {
    "collapsed": false
   }
  },
  {
   "cell_type": "code",
   "execution_count": null,
   "outputs": [],
   "source": [
    "articlesDf.select { article_id and product_group_name }.join(secondYeartransactionsDf) { article_id }.valueCounts { product_group_name }.plot {\n",
    "    bars { \n",
    "        x(product_group_name)\n",
    "        y(\"count\"<Int?>())\n",
    "     }\n",
    "     layout {\n",
    "         size = 800 to 600\n",
    "     }\n",
    "}"
   ],
   "metadata": {
    "collapsed": false
   }
  },
  {
   "cell_type": "markdown",
   "source": [
    "These statistics also seem to not differ much from the previous time period's!"
   ],
   "metadata": {
    "collapsed": false
   }
  }
 ],
 "metadata": {
  "kernelspec": {
   "display_name": "Kotlin",
   "language": "kotlin",
   "name": "kotlin"
  },
  "language_info": {
   "name": "kotlin",
   "version": "1.8.20",
   "mimetype": "text/x-kotlin",
   "file_extension": ".kt",
   "pygments_lexer": "kotlin",
   "codemirror_mode": "text/x-kotlin",
   "nbconvert_exporter": ""
  }
 },
 "nbformat": 4,
 "nbformat_minor": 0
}
